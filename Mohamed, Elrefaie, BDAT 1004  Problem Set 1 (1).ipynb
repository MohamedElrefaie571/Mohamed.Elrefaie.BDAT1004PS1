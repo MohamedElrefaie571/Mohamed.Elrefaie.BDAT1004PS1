{
 "cells": [
  {
   "cell_type": "markdown",
   "id": "db0202bb-3abf-4d0a-a454-286d6dfe658a",
   "metadata": {},
   "source": [
    "# Problem Set1\n",
    "Mohamed Elreaie"
   ]
  },
  {
   "cell_type": "markdown",
   "id": "ca611091-29ed-46f2-a345-6b7cccc047f2",
   "metadata": {},
   "source": [
    "# Queation 1\n",
    "\n",
    "What data type is each of the following (evaluate where necessary)?"
   ]
  },
  {
   "cell_type": "code",
   "execution_count": null,
   "id": "7b8ab727-a054-470a-966f-5b500c965780",
   "metadata": {},
   "outputs": [],
   "source": [
    "5\t                Data type: int\n",
    "5.0                 Data type: float\n",
    "5 > 1               Data type: bool\n",
    "'5'                 Data type: str\n",
    "5 * 2               Data type: int\n",
    "'5' * 2             Data type: str\n",
    "'5' + '2'           Data type: str\n",
    "5 / 2               Data type: float\n",
    "5 % 2               Data type: int\n",
    "{5, 2, 1}           Data type: set\n",
    "5 == 3              Data type: bool\n",
    "Pi (the number)     Data type: float"
   ]
  },
  {
   "cell_type": "markdown",
   "id": "258bad9f-00b4-49ff-920a-1de63e8175ec",
   "metadata": {},
   "source": [
    "# Question 2\n",
    "\n",
    "Write (and evaluate) python expressions that answer these questions:\n",
    "a. How many letters are there in 'Supercalifragilisticexpialidocious'?\n",
    "b. Does 'Supercalifragilisticexpialidocious' contain 'ice' as a substring?\n",
    "c. Which of the following words is the longest: Supercalifragilisticexpialidocious, Honorificabilitudinitatibus, or Bababadalgharaghtakamminarronnkonn?\n",
    "d. Which composer comes first in the dictionary: 'Berlioz', 'Borodin', 'Brian', 'Bartok', 'Bellini', 'Buxtehude', 'Bernstein'. Which one comes last?"
   ]
  },
  {
   "cell_type": "code",
   "execution_count": null,
   "id": "297a6ec6-8f92-458b-a467-5c45b06eb0c8",
   "metadata": {},
   "outputs": [],
   "source": [
    "# a\n",
    "\n",
    "word = 'Supercalifragilisticexpialidocious'\n",
    "letters_count = len(word)\n",
    "\n",
    "# b\n",
    "\n",
    "contains_ice = 'ice' in word\n",
    "\n",
    "# c\n",
    "\n",
    "words = ['Supercalifragilisticexpialidocious', 'Honorificabilitudinitatibus', 'Bababadalgharaghtakamminarronnkonn']\n",
    "longest_word = max(words, key=len)\n",
    "\n",
    "# d.\n",
    "\n",
    "composers = ['Berlioz', 'Borodin', 'Brian', 'Bartok', 'Bellini', 'Buxtehude', 'Bernstein']\n",
    "first_composer = min(composers)\n",
    "last_composer = max(composers)\n",
    "letters_count, contains_ice, longest_word, first_composer, last_composer\n"
   ]
  },
  {
   "cell_type": "markdown",
   "id": "5942041e-a77f-4315-b3d5-8b74cb62d979",
   "metadata": {},
   "source": [
    "# Question 3\n",
    "\n",
    "Implement function triangleArea(a,b,c) that takes as input the lengths of the 3\n",
    "sides of a triangle and returns the area of the triangle. By Heron's formula, the area\n",
    "of a triangle with side lengths a, b, and c is\n",
    "s(s - a)(s -b)(s -c), where\n",
    "s = (a +b + c) /2.\n",
    ">>> triangleArea(2,2,2)\n",
    "1.7320508075688772"
   ]
  },
  {
   "cell_type": "code",
   "execution_count": null,
   "id": "feeca13e-cb40-4e9a-8221-09a3209b7385",
   "metadata": {},
   "outputs": [],
   "source": [
    "import math\n",
    "def triangleArea(a, b, c):\n",
    "    # Calculate semi-perimeter\n",
    "    s = (a + b + c) / 2\n",
    "    # Calculate the area using Heron's formula\n",
    "    area = math.sqrt(s * (s - a) * (s - b) * (s - c))\n",
    "    return area"
   ]
  },
  {
   "cell_type": "markdown",
   "id": "45c85bf7-401f-48d3-aa99-fdf9806ccceb",
   "metadata": {},
   "source": [
    "# Question 4\n",
    "Write a program in python to separate odd and even integers in separate arrays. Go\n",
    "to the editor\n",
    "Test Data :\n",
    "Input the number of elements to be stored in the array :5\n",
    "Input 5 elements in the array :\n",
    "element - 0 : 25\n",
    "element - 1 : 47\n",
    "element - 2 : 42\n",
    "element - 3 : 56\n",
    "element - 4 : 32\n",
    "Expected Output:\n",
    "The Even elements are:\n",
    "42 56 32\n",
    "The Odd elements are :\n",
    "25 47"
   ]
  },
  {
   "cell_type": "code",
   "execution_count": null,
   "id": "960cdad9-bfc6-4d7b-8a87-a796f6aca246",
   "metadata": {},
   "outputs": [],
   "source": [
    "\n",
    "def separate_odd_even(numbers):\n",
    "    even_numbers = []\n",
    "    odd_numbers = []\n",
    "        for num in numbers:\n",
    "        if num % 2 == 0:\n",
    "            even_numbers.append(num)\n",
    "        else:\n",
    "            odd_numbers.append(num)\n",
    "        return even_numbers, odd_numbers\n",
    "\n",
    "\n",
    "n = int(input(\"Input the number of elements to be stored in the array: \"))\n",
    "numbers = []\n",
    "for i in range(n):\n",
    "    element = int(input(f\"element - {i}: \"))\n",
    "    numbers.append(element)\n",
    "\n",
    "even_numbers, odd_numbers = separate_odd_even(numbers)\n",
    "\n",
    "\n",
    "print(\"The Even elements are:\")\n",
    "for num in even_numbers:\n",
    "    print(num, end=' ')\n",
    "print(\"\\nThe Odd elements are:\")\n",
    "for num in odd_numbers:\n",
    "    print(num, end=' ')"
   ]
  },
  {
   "cell_type": "markdown",
   "id": "6d4daa59-0dbf-483a-abb4-bbb67862b052",
   "metadata": {},
   "source": [
    "# Question 5\n",
    "a. Write a function inside(x,y,x1,y1,x2,y2) that returns True or False depending on whether the point (x,y) lies in the rectangle with lower left corner (x1,y1) and upper right corner (x2,y2).\n",
    ">>> inside(1,1,0,0,2,3)\n",
    "True\n",
    ">>> inside(-1,-1,0,0,2,3)\n",
    "False\n",
    "b. Use function inside() from part a. to write an expression that tests whether the point (1,1) lies in both of the following rectangles: one with lower left corner (0.3, 0.5) and upper right corner (1.1, 0.7) and the other with lower left corner (0.5, 0.2) and upper right corner (1.1, 2)."
   ]
  },
  {
   "cell_type": "code",
   "execution_count": null,
   "id": "e4f2fd66-e803-4923-8f7e-c77f7f21df2d",
   "metadata": {},
   "outputs": [],
   "source": [
    "\n",
    "def inside(x, y, x1, y1, x2, y2):\n",
    "    return x1 <= x <= x2 and y1 <= y <= y2\n",
    "\n",
    "\n",
    "test1 = inside(1, 1, 0, 0, 2, 3)  # Expected: True\n",
    "test2 = inside(-1, -1, 0, 0, 2, 3)  # Expected: False\n",
    "\n",
    "\n",
    "test_both = inside(1, 1, 0.3, 0.5, 1.1, 0.7) and inside(1, 1, 0.5, 0.2, 1.1, 2)\n",
    "\n",
    "test1, test2, test_both"
   ]
  },
  {
   "cell_type": "markdown",
   "id": "845f7223-6fb8-455a-93ca-99de27c07c5a",
   "metadata": {},
   "source": [
    "# Question 6\n",
    "\n",
    "You can turn a word into pig-Latin using the following two rules (simplified):\n",
    "• If the word starts with a consonant, move that letter to the end and append 'ay'. For example, 'happy' becomes 'appyhay' and 'pencil' becomes 'encilpay'.\n",
    "• If the word starts with a vowel, simply append 'way' to the end of the word. For example, 'enter' becomes 'enterway' and 'other' becomes 'otherway' . For our purposes, there are 5 vowels: a, e, i, o, u (so we count y as a consonant).\n",
    "Write a function pig() that takes a word (i.e., a string) as input and returns its pig-Latin form. Your function should still work if the input word contains upper case characters. Your output should always be lower case however.\n",
    ">>> pig('happy')\n",
    "'appyhay'\n",
    ">>> pig('Enter')\n",
    "'enterway'"
   ]
  },
  {
   "cell_type": "code",
   "execution_count": null,
   "id": "65a0a3c4-b912-40c1-a465-0e75b05ceaa5",
   "metadata": {},
   "outputs": [],
   "source": [
    "def pig(word):\n",
    "    word = word.lower()  # Convert the word to lower case\n",
    "    vowels = 'aeiou'\n",
    "    \n",
    "    if word[0] in vowels:\n",
    "        return word + 'way'\n",
    "    else:\n",
    "        return word[1:] + word[0] + 'ay'\n",
    "\n",
    "\n",
    "print(pig('happy'))  # Expected: 'appyhay'\n",
    "print(pig('Enter'))  # Expected: 'enterway'"
   ]
  },
  {
   "cell_type": "markdown",
   "id": "84fd47a1-da2a-421a-97fc-d4915e892be6",
   "metadata": {},
   "source": [
    "# Question 7\n",
    "\n",
    "File bloodtype1.txt records blood-types of patients (A, B, AB, O or OO) at a clinic. Write a function bldcount() that reads the file with name name and reports (i.e., prints) how many patients there are in each bloodtype.\n",
    ">>> bldcount('bloodtype.txt')\n",
    "There are 10 patients of blood type A.\n",
    "There is one patient of blood type B.\n",
    "There are 10 patients of blood type AB.\n",
    "There are 12 patients of blood type O.\n",
    "There are no patients of blood type OO."
   ]
  },
  {
   "cell_type": "code",
   "execution_count": null,
   "id": "ea94e13f-8823-440b-8686-56c45f870adb",
   "metadata": {},
   "outputs": [],
   "source": [
    "\n",
    "file_path = '/mnt/data/bloodtype1.txt'\n",
    "\n",
    "def bldcount(file_path):\n",
    "    # Reading the blood types from the file\n",
    "    with open(file_path, 'r') as file:\n",
    "        blood_types = file.read().split()\n",
    "    \n",
    "    # Define possible blood types\n",
    "    blood_type_counts = {'A': 0, 'B': 0, 'AB': 0, 'O': 0, 'OO': 0}\n",
    "    \n",
    "    # Count occurrences of each blood type\n",
    "    for blood_type in blood_types:\n",
    "        if blood_type in blood_type_counts:\n",
    "            blood_type_counts[blood_type] += 1\n",
    "    \n",
    "    # Print the results\n",
    "    for blood_type, count in blood_type_counts.items():\n",
    "        if count == 0:\n",
    "            print(f\"There are no patients of blood type {blood_type}.\")\n",
    "        elif count == 1:\n",
    "            print(f\"There is one patient of blood type {blood_type}.\")\n",
    "        else:\n",
    "            print(f\"There are {count} patients of blood type {blood_type}.\")\n",
    "\n",
    "\n",
    "bldcount(file_path)"
   ]
  },
  {
   "cell_type": "markdown",
   "id": "5b3775bc-ca96-43fb-ae51-0c5cd99fecc1",
   "metadata": {},
   "source": [
    "# Question 8\n",
    "\n",
    "Write a function curconv() that takes as input:\n",
    "1. a currency represented using a string (e.g., 'JPY' for the Japanese Yen or 'EUR' for the Euro)\n",
    "2. an amount\n",
    "and then converts and returns the amount in US dollars.\n",
    ">>> curconv('EUR', 100)\n",
    "122.96544\n",
    ">>> curconv('JPY', 100)\n",
    "1.241401\n",
    "The currency rates you will need are stored in file currencies.txt:\n",
    "AUD 1.0345157 Australian Dollar\n",
    "CHF 1.0237414 Swiss Franc\n",
    "CNY 0.1550176 Chinese Yuan\n",
    "DKK 0.1651442 Danish Krone\n",
    "EUR 1.2296544 Euro\n",
    "GBP 1.5550989 British Pound\n",
    "HKD 0.1270207 Hong Kong Dollar\n",
    "INR 0.0177643 Indian Rupee\n",
    "JPY 0.01241401 Japanese Yen\n",
    "MXN 0.0751848 Mexican Peso\n",
    "MYR 0.3145411 Malaysian Ringgit\n",
    "NOK 0.1677063 Norwegian Krone\n",
    "NZD 0.8003591 New Zealand Dollar\n",
    "PHP 0.0233234 Philippine Peso\n",
    "SEK 0.148269 Swedish Krona\n",
    "SGD 0.788871 Singapore Dollar\n",
    "THB 0.0313789 Thai Baht"
   ]
  },
  {
   "cell_type": "code",
   "execution_count": null,
   "id": "6fdd6b31-7bd8-41dd-959d-50a929e3b09a",
   "metadata": {},
   "outputs": [],
   "source": [
    "\n",
    "def curconv(currency, amount):\n",
    "    # Read the file with currency rates\n",
    "    rates = {}\n",
    "    with open('/mnt/data/currencies.txt', 'r') as file:\n",
    "        for line in file:\n",
    "            parts = line.split()\n",
    "            rates[parts[0]] = float(parts[1])\n",
    "    \n",
    "    # Convert the amount to USD using the rate\n",
    "    if currency in rates:\n",
    "        return amount * rates[currency]\n",
    "    else:\n",
    "        return \"Currency not found.\"\n",
    "\n",
    "\n",
    "print(curconv('EUR', 100))  # Expected: 122.96544\n",
    "print(curconv('JPY', 100))  # Expected: 1.241401"
   ]
  },
  {
   "cell_type": "markdown",
   "id": "4025fa47-bc12-48c5-961b-fc499a845630",
   "metadata": {},
   "source": [
    "# Question 9\n",
    "Each of the following will cause an exception (an error). Identify what type of exception each will cause.\n",
    "Trying to add incompatible variables, as in\n",
    "adding 6 + ‘a’\n",
    "Referring to the 12\n",
    "th item of a list that has only 10\n",
    "items\n",
    "Using a value that is out of range for a functi\n",
    "on’s\n",
    "input, such as calling math.sqrt( 1.0)\n",
    "Using an undeclared variable, such as\n",
    "p rint(x)\n",
    "when x has not been defined\n",
    "Trying to open a file that does not exist, such as\n",
    "mistyping the file name or looking in the wrong\n",
    "directory."
   ]
  },
  {
   "cell_type": "markdown",
   "id": "2fb3e08e-9cc5-4054-8cc0-288a38384295",
   "metadata": {},
   "source": [
    "Trying to add incompatible variables, as in 6 + 'a':\n",
    "Exception: TypeError\n",
    "Reason: You cannot add an integer (6) to a string ('a'), as they are incompatible types.\n",
    "\n",
    "Referring to the 12th item of a list that has only 10 items:\n",
    "Exception: IndexError\n",
    "Reason: This happens because you are trying to access an index that is out of range for the list.\n",
    "\n",
    "Using a value that is out of range for a function’s input, such as calling math.sqrt(-1.0):\n",
    "Exception: ValueError\n",
    "Reason: The math.sqrt() function expects a non-negative number, and passing a negative number like -1.0 is outside the valid range.\n",
    "\n",
    "Using an undeclared variable, such as print(x) when x has not been defined:\n",
    "Exception: NameError\n",
    "Reason: The variable x has not been defined, so trying to reference it will raise a NameError.\n",
    "\n",
    "Trying to open a file that does not exist, such as mistyping the file name or looking in the wrong directory:\n",
    "Exception: FileNotFoundError\n",
    "Reason: This occurs when you attempt to open a file that the program cannot locate or does not exist in the specified directory."
   ]
  },
  {
   "cell_type": "markdown",
   "id": "4d3c8a81-af75-4ce5-bc34-7aa61ccfa0f8",
   "metadata": {},
   "source": [
    "# Question 10\n",
    "\n",
    "Encryption is the process of hiding the meaning of a text by substituting letters in the message with other letters, according to some system. If the process is successful, no one but the intended recipient can understand the encrypted message. Cryptanalysis refers to attempts to undo the encryption, even if some details of the encryption are unknown (for example, if an encrypted message has been intercepted). The first step of cryptanalysis is often to build up a table of letter frequencies in the encrypted text. Assume that the string letters is already defined as 'abcdefghijklmnopqrstuvwxyz'. Write a function called frequencies() that takes a string as its only parameter, and returns a list of integers, showing the number of times each character appears in the text. Your function may ignore any characters that are not in letters.\n",
    ">>> frequencies('The quick red fox got bored and went home.')\n",
    "[1, 1, 1, 3, 5, 1, 1, 2, 1, 0, 1, 0, 1, 2, 4, 0, 1, 2, 0, 2, 1, 0, 1, 1, 0, 0]\n",
    ">>> frequencies('apple')"
   ]
  },
  {
   "cell_type": "code",
   "execution_count": null,
   "id": "bc9daa6c-5dd9-4b5e-80eb-5886088ce861",
   "metadata": {},
   "outputs": [],
   "source": [
    "def frequencies(text):\n",
    "    # Define the string of letters to track\n",
    "    letters = 'abcdefghijklmnopqrstuvwxyz'\n",
    "    \n",
    "    # Create a list of zeros with length equal to the number of letters\n",
    "    freq_list = [0] * len(letters)\n",
    "    \n",
    "    # Iterate through each character in the input text\n",
    "    for char in text.lower():\n",
    "        if char in letters:\n",
    "            index = letters.index(char)\n",
    "            freq_list[index] += 1\n",
    "    \n",
    "    return freq_list"
   ]
  }
 ],
 "metadata": {
  "kernelspec": {
   "display_name": "Python 3 (ipykernel)",
   "language": "python",
   "name": "python3"
  },
  "language_info": {
   "codemirror_mode": {
    "name": "ipython",
    "version": 3
   },
   "file_extension": ".py",
   "mimetype": "text/x-python",
   "name": "python",
   "nbconvert_exporter": "python",
   "pygments_lexer": "ipython3",
   "version": "3.13.0"
  }
 },
 "nbformat": 4,
 "nbformat_minor": 5
}
